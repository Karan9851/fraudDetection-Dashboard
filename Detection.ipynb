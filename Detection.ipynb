{
 "cells": [
  {
   "cell_type": "code",
   "execution_count": 1,
   "id": "49dc789b-28b3-4710-855a-add8a7620ae8",
   "metadata": {},
   "outputs": [
    {
     "name": "stdout",
     "output_type": "stream",
     "text": [
      "   step      type    amount     nameOrig  oldbalanceOrg  newbalanceOrig  \\\n",
      "0     1   PAYMENT   9839.64  C1231006815       170136.0       160296.36   \n",
      "1     1   PAYMENT   1864.28  C1666544295        21249.0        19384.72   \n",
      "2     1  TRANSFER    181.00  C1305486145          181.0            0.00   \n",
      "3     1  CASH_OUT    181.00   C840083671          181.0            0.00   \n",
      "4     1   PAYMENT  11668.14  C2048537720        41554.0        29885.86   \n",
      "\n",
      "      nameDest  oldbalanceDest  newbalanceDest  isFraud  isFlaggedFraud  \n",
      "0  M1979787155             0.0             0.0        0               0  \n",
      "1  M2044282225             0.0             0.0        0               0  \n",
      "2   C553264065             0.0             0.0        1               0  \n",
      "3    C38997010         21182.0             0.0        1               0  \n",
      "4  M1230701703             0.0             0.0        0               0  \n",
      "<class 'pandas.core.frame.DataFrame'>\n",
      "RangeIndex: 6362620 entries, 0 to 6362619\n",
      "Data columns (total 11 columns):\n",
      " #   Column          Dtype  \n",
      "---  ------          -----  \n",
      " 0   step            int64  \n",
      " 1   type            object \n",
      " 2   amount          float64\n",
      " 3   nameOrig        object \n",
      " 4   oldbalanceOrg   float64\n",
      " 5   newbalanceOrig  float64\n",
      " 6   nameDest        object \n",
      " 7   oldbalanceDest  float64\n",
      " 8   newbalanceDest  float64\n",
      " 9   isFraud         int64  \n",
      " 10  isFlaggedFraud  int64  \n",
      "dtypes: float64(5), int64(3), object(3)\n",
      "memory usage: 534.0+ MB\n",
      "None\n",
      "step              0\n",
      "type              0\n",
      "amount            0\n",
      "nameOrig          0\n",
      "oldbalanceOrg     0\n",
      "newbalanceOrig    0\n",
      "nameDest          0\n",
      "oldbalanceDest    0\n",
      "newbalanceDest    0\n",
      "isFraud           0\n",
      "isFlaggedFraud    0\n",
      "dtype: int64\n"
     ]
    }
   ],
   "source": [
    "import pandas as pd\n",
    "\n",
    "# Load the training dataset\n",
    "df = pd.read_csv('train.csv')\n",
    "\n",
    "# View the first few rows\n",
    "print(df.head())\n",
    "\n",
    "# Basic info about the data\n",
    "print(df.info())\n",
    "\n",
    "# Checking  for null val\n",
    "print(df.isnull().sum())\n"
   ]
  },
  {
   "cell_type": "code",
   "execution_count": 2,
   "id": "66bc7dfd-312d-4eeb-bc90-131ca2d70be4",
   "metadata": {},
   "outputs": [
    {
     "name": "stdout",
     "output_type": "stream",
     "text": [
      "isFraud\n",
      "0    6354407\n",
      "1       8213\n",
      "Name: count, dtype: int64\n"
     ]
    },
    {
     "data": {
      "image/png": "[encoded data removed]",
      "text/plain": [
       "<Figure size 640x480 with 1 Axes>"
      ]
     },
     "metadata": {},
     "output_type": "display_data"
    }
   ],
   "source": [
    "import seaborn as sns\n",
    "import matplotlib.pyplot as plt\n",
    "\n",
    "# counting for  fraud vs non-fraud\n",
    "print(df['isFraud'].value_counts())\n",
    "\n",
    "# Plot \n",
    "sns.countplot(x='isFraud', data=df)\n",
    "plt.title(\"Fraud vs Non-Fraud\")\n",
    "plt.xlabel(\"Is Fraud\")\n",
    "plt.ylabel(\"Count\")\n",
    "plt.show()\n"
   ]
  },
  {
   "cell_type": "code",
   "execution_count": 3,
   "id": "5ec4b7a3-a2a1-4b1a-b497-6cc5482768e8",
   "metadata": {},
   "outputs": [
    {
     "name": "stdout",
     "output_type": "stream",
     "text": [
      "Fraudulent transactions: 0.0013 (0.13%)\n"
     ]
    }
   ],
   "source": [
    "# checking ratio of fraud\n",
    "fraud_ratio = df['isFraud'].sum() / len(df)\n",
    "print(f\"Fraudulent transactions: {fraud_ratio:.4f} ({fraud_ratio * 100:.2f}%)\")"
   ]
  },
  {
   "cell_type": "code",
   "execution_count": 4,
   "id": "97d86e67-73d4-4b0d-bba1-f8ea1b6e7106",
   "metadata": {},
   "outputs": [],
   "source": [
    "df.drop(['nameOrig', 'nameDest'], axis=1, inplace=True)"
   ]
  },
  {
   "cell_type": "code",
   "execution_count": 5,
   "id": "cb917dbe-b810-4d70-973b-831b93087280",
   "metadata": {},
   "outputs": [],
   "source": [
    "df = pd.get_dummies(df, columns=['type'], drop_first=True)"
   ]
  },
  {
   "cell_type": "code",
   "execution_count": 6,
   "id": "d2346ff9-b0a6-42bc-bbfd-ba666a2668af",
   "metadata": {},
   "outputs": [],
   "source": [
    "# Create error features using correct column names\n",
    "df['errorBalanceOrig'] = df['oldbalanceOrg'] - df['newbalanceOrig'] - df['amount']\n",
    "df['errorBalanceDest'] = df['newbalanceDest'] - df['oldbalanceDest'] - df['amount']"
   ]
  },
  {
   "cell_type": "code",
   "execution_count": 7,
   "id": "692bcba5-9ec9-4ade-b597-065b8120fa15",
   "metadata": {},
   "outputs": [
    {
     "name": "stdout",
     "output_type": "stream",
     "text": [
      "       errorBalanceOrig  errorBalanceDest\n",
      "count      6.362620e+06      6.362620e+06\n",
      "mean      -2.010925e+05     -5.556717e+04\n",
      "std        6.066505e+05      4.415288e+05\n",
      "min       -9.244552e+07     -1.319123e+07\n",
      "25%       -2.496411e+05     -2.935305e+04\n",
      "50%       -6.867726e+04     -3.500490e+03\n",
      "75%       -2.954230e+03      0.000000e+00\n",
      "max        1.000000e-02      7.588573e+07\n"
     ]
    }
   ],
   "source": [
    "print(df[['errorBalanceOrig', 'errorBalanceDest']].describe())"
   ]
  },
  {
   "cell_type": "code",
   "execution_count": 8,
   "id": "485add50-09d7-4b0e-ba01-20750191db20",
   "metadata": {},
   "outputs": [],
   "source": [
    "# Separating features and target\n",
    "X = df.drop(['isFraud', 'isFlaggedFraud'], axis=1)\n",
    "y = df['isFraud']"
   ]
  },
  {
   "cell_type": "code",
   "execution_count": 9,
   "id": "f9d53cd0-41a3-4959-a339-b7d0e97966b0",
   "metadata": {},
   "outputs": [
    {
     "name": "stdout",
     "output_type": "stream",
     "text": [
      "Training samples: 5090096\n",
      "Test samples: 1272524\n",
      "Fraud count in y_train: 6570\n",
      "Fraud count in y_test: 1643\n"
     ]
    }
   ],
   "source": [
    "from sklearn.model_selection import train_test_split\n",
    "\n",
    "# Spliting into train and test data\n",
    "X_train, X_test, y_train, y_test = train_test_split(\n",
    "    X, y, test_size=0.2, stratify=y, random_state=42\n",
    ")\n",
    "\n",
    "print(\"Training samples:\", X_train.shape[0])\n",
    "print(\"Test samples:\", X_test.shape[0])\n",
    "print(\"Fraud count in y_train:\", sum(y_train))\n",
    "print(\"Fraud count in y_test:\", sum(y_test))\n",
    "\n"
   ]
  },
  {
   "cell_type": "code",
   "execution_count": 10,
   "id": "f9802276-e037-4bbe-9d7e-81252605f117",
   "metadata": {},
   "outputs": [
    {
     "name": "stdout",
     "output_type": "stream",
     "text": [
      "After SMOTE:\n",
      "Total training samples: 10167052\n",
      "Fraud count: 5083526\n",
      "Non-fraud count: 5083526\n"
     ]
    }
   ],
   "source": [
    "from imblearn.over_sampling import SMOTE\n",
    "\n",
    "#  SMOTE to training data only\n",
    "sm = SMOTE(random_state=42)\n",
    "X_train_smote, y_train_smote = sm.fit_resample(X_train, y_train)\n",
    "\n",
    "print(\"After SMOTE:\")\n",
    "print(\"Total training samples:\", X_train_smote.shape[0])\n",
    "print(\"Fraud count:\", sum(y_train_smote))\n",
    "print(\"Non-fraud count:\", len(y_train_smote) - sum(y_train_smote))"
   ]
  },
  {
   "cell_type": "code",
   "execution_count": 11,
   "id": "ffe0c2a6-b42d-4157-9d03-6b1afe0236af",
   "metadata": {},
   "outputs": [],
   "source": [
    "from sklearn.linear_model import LogisticRegression\n",
    "from sklearn.tree import DecisionTreeClassifier\n",
    "from sklearn.metrics import classification_report, confusion_matrix, roc_auc_score\n",
    "\n",
    "#models Logistick Regression and Decision Tree\n",
    "models = {\n",
    "    \"Logistic Regression\": LogisticRegression(max_iter=1000, random_state=42),\n",
    "    \"Decision Tree\": DecisionTreeClassifier(random_state=42)\n",
    "}"
   ]
  },
  {
   "cell_type": "code",
   "execution_count": 12,
   "id": "fdc1d519-4836-46e5-8244-c11554ea6ace",
   "metadata": {},
   "outputs": [
    {
     "name": "stdout",
     "output_type": "stream",
     "text": [
      "\n",
      " Training: Logistic Regression\n",
      "\n",
      " Results for Logistic Regression\n",
      "Confusion Matrix:\n",
      "[[1161016  109865]\n",
      " [    166    1477]]\n",
      "\n",
      "Classification Report:\n",
      "              precision    recall  f1-score   support\n",
      "\n",
      "           0     0.9999    0.9136    0.9548   1270881\n",
      "           1     0.0133    0.8990    0.0261      1643\n",
      "\n",
      "    accuracy                         0.9135   1272524\n",
      "   macro avg     0.5066    0.9063    0.4905   1272524\n",
      "weighted avg     0.9986    0.9135    0.9536   1272524\n",
      "\n",
      "AUC-ROC Score: 0.9634\n",
      "\n",
      " Training: Decision Tree\n",
      "\n",
      " Results for Decision Tree\n",
      "Confusion Matrix:\n",
      "[[1270778     103]\n",
      " [      4    1639]]\n",
      "\n",
      "Classification Report:\n",
      "              precision    recall  f1-score   support\n",
      "\n",
      "           0     1.0000    0.9999    1.0000   1270881\n",
      "           1     0.9409    0.9976    0.9684      1643\n",
      "\n",
      "    accuracy                         0.9999   1272524\n",
      "   macro avg     0.9704    0.9987    0.9842   1272524\n",
      "weighted avg     0.9999    0.9999    0.9999   1272524\n",
      "\n",
      "AUC-ROC Score: 0.9987\n"
     ]
    }
   ],
   "source": [
    "for name, model in models.items():\n",
    "    print(f\"\\n Training: {name}\")\n",
    "\n",
    "    # Training on SMOTE data\n",
    "    model.fit(X_train_smote, y_train_smote)  \n",
    "    y_pred = model.predict(X_test)\n",
    "    y_proba = model.predict_proba(X_test)[:, 1]  # Probabilities  AUC\n",
    "\n",
    "    print(f\"\\n Results for {name}\")\n",
    "    print(\"Confusion Matrix:\")\n",
    "    print(confusion_matrix(y_test, y_pred))\n",
    "\n",
    "    print(\"\\nClassification Report:\")\n",
    "    print(classification_report(y_test, y_pred, digits=4))\n",
    "\n",
    "    print(f\"AUC-ROC Score: {roc_auc_score(y_test, y_proba):.4f}\")\n"
   ]
  },
  {
   "cell_type": "code",
   "execution_count": 13,
   "id": "66e58814-0897-46fa-9831-dd9eaf891485",
   "metadata": {},
   "outputs": [
    {
     "name": "stdout",
     "output_type": "stream",
     "text": [
      " Confusion Matrix:\n",
      "[[1270504     377]\n",
      " [     16    1627]]\n",
      "\n",
      " Classification Report:\n",
      "              precision    recall  f1-score   support\n",
      "\n",
      "           0     1.0000    0.9997    0.9998   1270881\n",
      "           1     0.8119    0.9903    0.8922      1643\n",
      "\n",
      "    accuracy                         0.9997   1272524\n",
      "   macro avg     0.9059    0.9950    0.9460   1272524\n",
      "weighted avg     0.9997    0.9997    0.9997   1272524\n",
      "\n",
      "\n",
      " AUC-ROC Score: 0.9998\n"
     ]
    }
   ],
   "source": [
    "# now XG Boost model \n",
    "\n",
    "from xgboost import XGBClassifier\n",
    "from sklearn.metrics import classification_report, confusion_matrix, roc_auc_score\n",
    "\n",
    "# Init the XGBoost \n",
    "xgb = XGBClassifier(\n",
    "    eval_metric='logloss',       # removed 'use_label_encoder=False' to avoid warning\n",
    "    random_state=42              \n",
    ")\n",
    "\n",
    "# Training the model on the SMOTE balanced training set\n",
    "xgb.fit(X_train_smote, y_train_smote)\n",
    "\n",
    "# Making predictions on the test set\n",
    "y_pred_xgb = xgb.predict(X_test)  \n",
    "y_proba_xgb = xgb.predict_proba(X_test)[:, 1]  \n",
    "\n",
    "print(\" Confusion Matrix:\")\n",
    "\n",
    "# Showing true vs predicted values\n",
    "print(confusion_matrix(y_test, y_pred_xgb))  \n",
    "\n",
    "print(\"\\n Classification Report:\")\n",
    "print(classification_report(y_test, y_pred_xgb, digits=4))  \n",
    "\n",
    "print(f\"\\n AUC-ROC Score: {roc_auc_score(y_test, y_proba_xgb):.4f}\")  \n"
   ]
  },
  {
   "cell_type": "code",
   "execution_count": 14,
   "id": "7fa4d926-8d24-4e20-8321-db08c4c0fb54",
   "metadata": {},
   "outputs": [
    {
     "name": "stdout",
     "output_type": "stream",
     "text": [
      "Fitting 3 folds for each of 48 candidates, totalling 144 fits\n"
     ]
    },
    {
     "name": "stderr",
     "output_type": "stream",
     "text": [
      "C:\\Users\\KARAN\\AppData\\Roaming\\Python\\Python310\\site-packages\\xgboost\\training.py:183: UserWarning: [22:18:47] WARNING: C:\\actions-runner\\_work\\xgboost\\xgboost\\src\\learner.cc:738: \n",
      "Parameters: { \"use_label_encoder\" } are not used.\n",
      "\n",
      "  bst.update(dtrain, iteration=i, fobj=obj)\n"
     ]
    },
    {
     "name": "stdout",
     "output_type": "stream",
     "text": [
      " Best Parameters: {'colsample_bytree': 1.0, 'learning_rate': 0.2, 'max_depth': 9, 'n_estimators': 150, 'subsample': 0.8}\n",
      "\n",
      " Confusion Matrix:\n",
      "[[1270569     312]\n",
      " [     20    1623]]\n",
      "\n",
      " Classification Report:\n",
      "              precision    recall  f1-score   support\n",
      "\n",
      "           0     1.0000    0.9998    0.9999   1270881\n",
      "           1     0.8388    0.9878    0.9072      1643\n",
      "\n",
      "    accuracy                         0.9997   1272524\n",
      "   macro avg     0.9194    0.9938    0.9535   1272524\n",
      "weighted avg     0.9998    0.9997    0.9997   1272524\n",
      "\n",
      "\n",
      " AUC-ROC Score: 0.9997\n"
     ]
    }
   ],
   "source": [
    "# Hyperparameter Tuning using GridSearchCV\n",
    "\n",
    "from xgboost import XGBClassifier\n",
    "from sklearn.model_selection import GridSearchCV\n",
    "from sklearn.metrics import classification_report, confusion_matrix, roc_auc_score\n",
    "\n",
    "#  hyperparameter grid 20 combinations\n",
    "param_grid = {\n",
    "    'n_estimators': [100, 150],           \n",
    "    'max_depth': [3, 5, 7, 9],            \n",
    "    'learning_rate': [0.05, 0.1, 0.2],    \n",
    "    'subsample': [0.8],                 \n",
    "    'colsample_bytree': [0.8, 1.0]        \n",
    "}\n",
    "\n",
    "\n",
    "#  XGBoost base model with CPU-safe tree method\n",
    "xgb_base = XGBClassifier(\n",
    "    use_label_encoder=False,\n",
    "    eval_metric='logloss',\n",
    "    random_state=42,\n",
    "    tree_method='hist'  \n",
    ")\n",
    "\n",
    "# GridSearchCV setup\n",
    "grid_search = GridSearchCV(\n",
    "    estimator=xgb_base,\n",
    "    param_grid=param_grid,\n",
    "    scoring='f1',\n",
    "    cv=3,\n",
    "    verbose=1,\n",
    "    n_jobs=-1\n",
    ")\n",
    "\n",
    "# Fitting GridSearchCV\n",
    "grid_search.fit(X_train_smote, y_train_smote)\n",
    "\n",
    "# Best model from search\n",
    "best_xgb = grid_search.best_estimator_\n",
    "\n",
    "# Predict on test data\n",
    "y_pred_best = best_xgb.predict(X_test)\n",
    "y_proba_best = best_xgb.predict_proba(X_test)[:, 1]\n",
    "\n",
    "\n",
    "print(\" Best Parameters:\", grid_search.best_params_)\n",
    "print(\"\\n Confusion Matrix:\")\n",
    "print(confusion_matrix(y_test, y_pred_best))\n",
    "print(\"\\n Classification Report:\")\n",
    "print(classification_report(y_test, y_pred_best, digits=4))\n",
    "print(f\"\\n AUC-ROC Score: {roc_auc_score(y_test, y_proba_best):.4f}\")\n"
   ]
  },
  {
   "cell_type": "code",
   "execution_count": 15,
   "id": "bde33747-27af-4b9c-94e3-bd6fabe8c899",
   "metadata": {},
   "outputs": [
    {
     "data": {
      "text/plain": [
       "['xgb_fraud_model.pkl']"
      ]
     },
     "execution_count": 15,
     "metadata": {},
     "output_type": "execute_result"
    }
   ],
   "source": [
    "import joblib\n",
    "\n",
    "# Save the best model\n",
    "joblib.dump(best_xgb, \"xgb_fraud_model.pkl\")\n"
   ]
  },
  {
   "cell_type": "code",
   "execution_count": 18,
   "id": "1ae126e7-0e77-497f-a611-3eac142c7588",
   "metadata": {},
   "outputs": [],
   "source": [
    "# real time prediction function\n",
    "\n",
    "def predict_fraud(transaction_dict, model):\n",
    "    import pandas as pd\n",
    "\n",
    "    # Convert input dictionary to DataFrame\n",
    "    df = pd.DataFrame([transaction_dict])\n",
    "\n",
    "    # Predict class and probability\n",
    "    prediction = model.predict(df)[0]\n",
    "    probability = model.predict_proba(df)[0][1]\n",
    "\n",
    "    return {\n",
    "        \"is_fraud\": int(prediction),\n",
    "        \"fraud_probability\": round(probability, 4)\n",
    "    }\n"
   ]
  },
  {
   "cell_type": "code",
   "execution_count": 19,
   "id": "dd8d7d53-87e1-4aa8-93fe-0701b14d125c",
   "metadata": {},
   "outputs": [
    {
     "name": "stdout",
     "output_type": "stream",
     "text": [
      "['step', 'amount', 'oldbalanceOrg', 'newbalanceOrig', 'oldbalanceDest', 'newbalanceDest', 'type_CASH_OUT', 'type_DEBIT', 'type_PAYMENT', 'type_TRANSFER', 'errorBalanceOrig', 'errorBalanceDest']\n"
     ]
    }
   ],
   "source": [
    "print(X_train.columns.tolist())\n"
   ]
  },
  {
   "cell_type": "code",
   "execution_count": 25,
   "id": "ebb619c1-5ea9-4c87-bcae-65c322cec448",
   "metadata": {},
   "outputs": [
    {
     "name": "stdout",
     "output_type": "stream",
     "text": [
      "Real-time Prediction Result: {'is_fraud': 1, 'fraud_probability': 1.0}\n"
     ]
    }
   ],
   "source": [
    "import joblib\n",
    "\n",
    "# Load the saved model\n",
    "model = joblib.load(\"xgb_fraud_model.pkl\")\n",
    "\n",
    "# Simulate a new real-time transaction (you can change these values to test)\n",
    "input_raw = {\n",
    "    'step': 344,\n",
    "    'amount': 181.0,\n",
    "    'oldbalanceOrg': 181.0,\n",
    "    'newbalanceOrig': 0.0,\n",
    "    'oldbalanceDest': 0.0,\n",
    "    'newbalanceDest': 0.0,\n",
    "    'type_CASH_OUT': 0,\n",
    "    'type_DEBIT': 0,\n",
    "    'type_PAYMENT': 0,\n",
    "    'type_TRANSFER': 1\n",
    "}\n",
    "\n",
    "# Derived features\n",
    "input_raw['errorBalanceOrig'] = input_raw['oldbalanceOrg'] - input_raw['newbalanceOrig'] - input_raw['amount']\n",
    "input_raw['errorBalanceDest'] = input_raw['newbalanceDest'] - input_raw['oldbalanceDest'] - input_raw['amount']\n",
    "\n",
    "result = predict_fraud(input_raw, model)\n",
    "print(\"Real-time Prediction Result:\", result)\n"
   ]
  },
  {
   "cell_type": "code",
   "execution_count": null,
   "id": "b636a9bb-d5d7-4936-85b7-acb3afd6c285",
   "metadata": {},
   "outputs": [],
   "source": []
  }
 ],
 "metadata": {
  "kernelspec": {
   "display_name": "Python 3 (ipykernel)",
   "language": "python",
   "name": "python3"
  },
  "language_info": {
   "codemirror_mode": {
    "name": "ipython",
    "version": 3
   },
   "file_extension": ".py",
   "mimetype": "text/x-python",
   "name": "python",
   "nbconvert_exporter": "python",
   "pygments_lexer": "ipython3",
   "version": "3.10.0"
  }
 },
 "nbformat": 4,
 "nbformat_minor": 5
}
